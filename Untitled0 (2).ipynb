{
  "nbformat": 4,
  "nbformat_minor": 0,
  "metadata": {
    "colab": {
      "provenance": []
    },
    "kernelspec": {
      "name": "python3",
      "display_name": "Python 3"
    },
    "language_info": {
      "name": "python"
    }
  },
  "cells": [
    {
      "cell_type": "markdown",
      "source": [
        "# **Data Types and Structures**\n",
        "\n",
        "# What are data structures, and why are they important ?\n",
        "->Data structures are ways to organize and store data in a computer so that it can be efficiently accessed, modified, and manipulated. They provide a way to manage large amounts of data, making it possible to perform operations such as sorting, searching, and inserting data.\n",
        "\n",
        "IPORTAMCE :\n",
        "1. Efficient Data Management: Data structures enable efficient storage, retrieval, and manipulation of data, making it possible to handle large amounts of data.\n",
        "2. Improved Algorithm Performance: Choosing the right data structure can significantly improve the performance of algorithms, reducing time and space complexity.\n",
        "3. Problem-Solving: Data structures provide a way to model real-world problems, making it easier to solve complex problems.\n",
        "4. Code Reusability: Well-designed data structures can be reused in multiple applications, reducing code duplication and improving maintainability.\n",
        "5. Scalability: Data structures can be designed to scale with the size of the data, making it possible to handle large datasets.\n",
        "\n",
        "\n",
        "#Explain the difference between mutable and immutable data types with examples ?\n",
        "->Mutable Data Types:\n",
        "\n",
        "Mutable data types are those that can be changed after they are created. Modifying a mutable object will change the original object.\n",
        "\n",
        "Examples of Mutable Data Types:\n",
        "\n",
        "1. Lists: l = [1, 2, 3] can be modified to l = [4, 5, 6] or l.append(4) will change the original list.\n",
        "2. Dictionaries: d = {\"name\": \"John\", \"age\": 30} can be modified to d[\"name\"] = \"Jane\" or d[\"city\"] = \"New York\" will change the original dictionary.\n",
        "3. Sets: s = {1, 2, 3} can be modified to s.add(4) or s.remove(2) will change the original set.\n",
        "\n",
        "Immutable Data Types:\n",
        "\n",
        "Immutable data types are those that cannot be changed once they are created. Any attempt to modify an immutable object will result in the creation of a new object.\n",
        "\n",
        "Examples of Immutable Data Types:\n",
        "\n",
        "1. Integers: x = 5 cannot be changed to x = 10 without creating a new object.\n",
        "2. Floats: x = 3.14 cannot be changed to x = 2.71 without creating a new object.\n",
        "3. Strings: s = \"hello\" cannot be changed to s = \"world\" without creating a new object. However, you can create a new string s = \"world\".\n",
        "4. Tuples: t = (1, 2, 3) cannot be changed to t = (4, 5, 6) without creating a new object.\n",
        "\n",
        "\n",
        "#What are the main differences between lists and tuples in Python ?\n",
        "->Lists vs Tuples in Python\n",
        "\n",
        "Lists and tuples are two fundamental data structures in Python. While they share some similarities, they have distinct differences.\n",
        "\n",
        "Similarities:\n",
        "\n",
        "1. Ordered Collections: Both lists and tuples are ordered collections of elements, meaning that the order of elements matters.\n",
        "2. Indexing: Both lists and tuples support indexing, allowing you to access elements by their index.\n",
        "3. Slicing: Both lists and tuples support slicing, allowing you to extract a subset of elements.\n",
        "\n",
        "Differences:\n",
        "\n",
        "1. Immutability: Tuples are immutable, meaning that once created, their contents cannot be modified. Lists, on the other hand, are mutable, allowing you to add, remove, or modify elements.\n",
        "2. Syntax: Tuples use parentheses () to define them, while lists use square brackets [].\n",
        "3. Performance: Tuples are generally faster and more memory-efficient than lists because they are immutable.\n",
        "4. Use Cases: Tuples are suitable for situations where data is constant and doesn't need to be changed, such as representing a record or a row in a database. Lists are suitable for situations where data needs to be modified, such as representing a collection of items that need to be sorted or filtered.\n",
        "\n",
        "#Describe how dictionaries store data ?\n",
        "->Dictionaries in Python\n",
        "\n",
        "Dictionaries are a fundamental data structure in Python that store data in key-value pairs. They are also known as hash tables or associative arrays.\n",
        "\n",
        "How Dictionaries Store Data:\n",
        "\n",
        "1. Key-Value Pairs: Dictionaries store data as key-value pairs, where each key is unique and maps to a specific value.\n",
        "2. Hashing: When you add a key-value pair to a dictionary, Python uses a hash function to generate a hash code for the key. This hash code determines the location where the key-value pair is stored in memory.\n",
        "3. Buckets: Dictionaries use buckets to store key-value pairs. Each bucket contains a list of key-value pairs that hash to the same index.\n",
        "4. Collision Resolution: When two keys hash to the same index (known as a collision), Python uses a technique called open addressing or chaining to resolve the collision.\n",
        "\n",
        "How Dictionary Lookups Work:\n",
        "\n",
        "1. Hashing the Key: When you look up a key in a dictionary, Python generates a hash code for the key using the same hash function used during insertion.\n",
        "2. Index Calculation: The hash code is used to calculate the index of the bucket where the key-value pair is stored.\n",
        "3. Bucket Search: Python searches the bucket for the key-value pair with the matching key.\n",
        "4. Value Retrieval: If the key is found, Python returns the associated value.\n",
        "\n",
        "Dictionary Operations:\n",
        "\n",
        "1. Insertion: Adding a new key-value pair to the dictionary.\n",
        "2. Lookup: Retrieving the value associated with a given key.\n",
        "3. Update: Modifying the value associated with a given key.\n",
        "4. Deletion: Removing a key-value pair from the dictionary.\n",
        "\n",
        "# Why might you use a set instead of a list in Python ?\n",
        "->Sets and lists are both data structures in Python that can be used to store collections of elements. However, there are key differences between them that might make one more suitable than the other for certain use cases\n",
        "\n",
        "1. Fast Membership Testing: Sets provide fast membership testing, with an average time complexity of O(1), making them ideal for situations where you need to check if an element is in a collection.\n",
        "2. Uniqueness: Sets automatically eliminate duplicates, ensuring that all elements in the set are unique.\n",
        "3. Efficient Set Operations: Sets provide efficient set operations like union, intersection, and difference, making them suitable for situations where you need to perform set-based operations.\n",
        "4. Memory Efficiency: Sets can be more memory-efficient than lists, especially when dealing with large datasets.\n",
        "When to Use a Set.\n",
        "\n",
        "When to Use a Set:\n",
        "\n",
        "1. Membership Testing: When you need to frequently check if an element is in a collection.\n",
        "2. Unique Elements: When you need to ensure that all elements in a collection are unique.\n",
        "3. Set-Based Operations: When you need to perform set-based operations like union, intersection, or difference.\n",
        "4. Data Deduplication: When you need to remove duplicates from a collection.\n",
        "\n",
        "# What is a string in Python, and how is it different from a list ?\n",
        "->Strings in Python\n",
        "\n",
        "In Python, a string is a sequence of characters, such as letters, numbers, or symbols, enclosed in quotes (either single quotes ' or double quotes \"). Strings are immutable, meaning that once created, their contents cannot be modified.\n",
        "\n",
        "Differences Between Strings and Lists:\n",
        "\n",
        "1. Immutability: Strings are immutable, whereas lists are mutable. This means that you cannot change the contents of a string after it's created, but you can modify a list.\n",
        "2. Character Sequence: Strings are sequences of characters, whereas lists can contain any type of element, including strings, integers, floats, and other lists.\n",
        "3. Indexing and Slicing: Both strings and lists support indexing and slicing, but strings return characters, while lists return elements.\n",
        "4. Methods and Operations: Strings have their own set of methods and operations, such as upper(), lower(), and split(), whereas lists have their own methods, such as append(), insert(), and sort().\n",
        "\n",
        "# How do tuples ensure data integrity in Python ?\n",
        "->Tuples and Data Integrity in Python\n",
        "\n",
        "Tuples are a type of data structure in Python that can ensure data integrity by providing a way to store immutable collections of elements. Here are some ways tuples can help ensure data integrity:\n",
        "\n",
        "1. Immutability: Tuples are immutable, meaning that once created, their contents cannot be modified. This ensures that the data in the tuple remains consistent and predictable.\n",
        "2. Protection against unintended changes: By using tuples, you can protect your data against unintended changes, such as accidental modifications or deletions.\n",
        "3. Thread safety: Tuples are thread-safe, meaning that multiple threads can access the same tuple without fear of one thread modifying the tuple and affecting the other threads.\n",
        "4. Hashability: Tuples are hashable, meaning that they can be used as keys in dictionaries. This allows you to use tuples to store data that needs to be looked up or referenced.\n",
        "\n",
        "# What is a hash table, and how does it relate to dictionaries in Python ?\n",
        "->Hash Tables and Dictionaries in Python\n",
        "\n",
        "A hash table is a data structure that maps keys to values using a hash function. It's a fundamental data structure in computer science that allows for fast lookups, insertions, and deletions of key-value pairs.\n",
        "\n",
        "Dictionaries in Python:\n",
        "\n",
        "In Python, dictionaries are implemented as hash tables. They provide a way to store key-value pairs and allow for fast lookups, insertions, and deletions.\n",
        "\n",
        "How Dictionaries Relate to Hash Tables:\n",
        "\n",
        "1. Hash Table Implementation: Python dictionaries are implemented as hash tables, which provides fast lookups and insertions.\n",
        "2. Key-Value Pairs: Dictionaries store key-value pairs, where each key is unique and maps to a specific value.\n",
        "3. Hash Function: Python uses a hash function to generate a hash code for each key, which determines the location where the key-value pair is stored.\n",
        "\n",
        "# Can lists contain different data types in Python ?\n",
        "->Lists and Data Types in Python\n",
        "\n",
        "Yes, lists in Python can contain different data types. Python lists are heterogeneous, meaning they can store elements of different data types, such as integers, floats, strings, and other lists.\n",
        "Example of a List with Different Data Types:\n",
        "\n",
        "\n",
        "my_list = [1, \"hello\", 3.14, True, [1, 2, 3]]\n",
        "print(my_list)  # [1, 'hello', 3.14, True, [1, 2, 3]]\n",
        "\n",
        "\n",
        "In this example, the list my_list contains elements of different data types, including an integer, a string, a float, a boolean, and another list.\n",
        "\n",
        "#  Explain why strings are immutable in Python ?\n",
        "-> Immutability of Strings in Python\n",
        "\n",
        "In Python, strings are immutable, meaning that once a string is created, its contents cannot be modified. This is a deliberate design choice that provides several benefits.\n",
        "\n",
        "Reasons for Immutability:\n",
        "\n",
        "1. Security: Immutable strings help prevent security vulnerabilities that can arise from modifying strings in place. For example, if a string contains sensitive information, such as a password, immutability ensures that it cannot be modified accidentally or maliciously.\n",
        "2. Thread Safety: Immutable strings are thread-safe, meaning that multiple threads can access the same string without fear of one thread modifying the string and affecting the other threads.\n",
        "3. Hashability: Immutable strings can be used as keys in dictionaries, which is essential for many applications. If strings were mutable, their hash values could change, leading to unexpected behavior.\n",
        "4. Performance: Immutable strings can be more efficient than mutable strings, as Python can optimize string operations and caching.\n",
        "5. Code Simplicity: Immutability simplifies code and reduces the risk of bugs, as developers don't need to worry about strings being modified unexpectedly.\n",
        "\n",
        "# What advantages do dictionaries offer over lists for certain tasks ?\n",
        "->Dictionaries vs Lists in Python\n",
        "\n",
        "Dictionaries and lists are both fundamental data structures in Python, but they have different strengths and use cases. Dictionaries offer several advantages over lists for certain tasks.\n",
        "\n",
        "Advantages of Dictionaries:\n",
        "\n",
        "1. Fast Lookups: Dictionaries provide fast lookups, with an average time complexity of O(1), making them ideal for tasks that require frequent lookups.\n",
        "2. Key-Value Pairs: Dictionaries store data as key-value pairs, allowing for efficient and intuitive data access and manipulation.\n",
        "3. Flexible Data Structure: Dictionaries can store a wide range of data types, including strings, integers, and objects.\n",
        "4. Efficient Data Retrieval: Dictionaries enable efficient data retrieval, as you can access values directly using their corresponding keys.\n",
        "\n",
        "When to Use Dictionaries:\n",
        "\n",
        "1. Data Retrieval: When you need to retrieve data based on a specific key or identifier.\n",
        "2. Data Aggregation: When you need to aggregate data from multiple sources and store it in a single data structure.\n",
        "3. Configuration Files: When you need to store configuration data or settings in a flexible and easily accessible format.\n",
        "4. Caching: When you need to cache frequently accessed data to improve performance.\n",
        "\n",
        "Comparison to Lists:\n",
        "\n",
        "1. Lookup Performance: Dictionaries provide faster lookups than lists, especially for large datasets.\n",
        "2. Data Organization: Dictionaries provide a more organized and intuitive way to store and access data, especially when working with key-value pairs.\n",
        "3. Data Retrieval: Dictionaries enable more efficient data retrieval, as you can access values directly using their corresponding keys.\n",
        "\n",
        "#  Describe a scenario where using a tuple would be preferable over a list.\n",
        "-> Tuples vs Lists in Python\n",
        "\n",
        "Tuples and lists are both data structures in Python, but they have different characteristics that make them suitable for different use cases. Here's a scenario where using a tuple would be preferable over a list:\n",
        "\n",
        "Scenario: Representing a Record or a Row in a Database\n",
        "\n",
        "Imagine you're working with a database that stores information about books. Each book has a unique identifier, title, author, and publication year. You want to represent each book as a data structure in your Python code.\n",
        "\n",
        "Why Tuples are Preferable:\n",
        "\n",
        "1. Immutability: Tuples are immutable, which means that once a tuple is created, its contents cannot be modified. This is beneficial when representing a record or a row in a database, as the data is typically not meant to be changed once it's been inserted.\n",
        "2. Hashability: Tuples are hashable, which means they can be used as keys in dictionaries. This is useful if you need to store additional metadata about each book.\n",
        "3. Performance: Tuples are generally faster and more memory-efficient than lists, which can be beneficial when working with large datasets.\n",
        "\n",
        "# How do sets handle duplicate values in Python ?\n",
        "->Sets and Duplicate Values in Python\n",
        "\n",
        "In Python, sets are a type of data structure that automatically handles duplicate values. When you add an element to a set, Python checks if the element already exists in the set. If it does, the element is not added again.\n",
        "\n",
        "How Sets Handle Duplicate Values:\n",
        "\n",
        "1. Automatic Duplicate Removal: Sets automatically remove duplicate values, ensuring that all elements in the set are unique.\n",
        "2. No Duplicate Values: Sets do not allow duplicate values, so you don't need to worry about checking for duplicates before adding an element.\n",
        "\n",
        "# How does the “in” keyword work differently for lists and dictionaries ?\n",
        "-> The \"in\" Keyword in Python\n",
        "\n",
        "The \"in\" keyword in Python is used to check if an element exists in a collection or a mapping. However, its behavior differs slightly between lists and dictionaries.\n",
        "\n",
        "Lists:\n",
        "\n",
        "When using the \"in\" keyword with lists, Python checks if the specified element exists in the list. The \"in\" keyword returns True if the element is found, and False otherwise.\n",
        "\n",
        "Example Code:\n",
        "\n",
        "\n",
        "# Create a list\n",
        "my_list = [1, 2, 3, 4, 5]\n",
        "\n",
        "# Check if an element exists in the list\n",
        "print(3 in my_list)  # True\n",
        "print(6 in my_list)  # False\n",
        "\n",
        "Dictionaries:\n",
        "\n",
        "When using the \"in\" keyword with dictionaries, Python checks if the specified key exists in the dictionary. The \"in\" keyword returns True if the key is found, and False otherwise.\n",
        "\n",
        "Example Code:\n",
        "\n",
        "\n",
        "# Create a dictionary\n",
        "my_dict = {\"name\": \"John\", \"age\": 30}\n",
        "\n",
        "# Check if a key exists in the dictionary\n",
        "print(\"name\" in my_dict)  # True\n",
        "print(\"city\" in my_dict)  # False\n",
        "\n",
        "# Can you modify the elements of a tuple? Explain why or why not ?\n",
        "->Modifying Tuple Elements in Python\n",
        "\n",
        "No, you cannot directly modify the elements of a tuple in Python. Tuples are immutable, meaning that once a tuple is created, its contents cannot be changed.\n",
        "\n",
        "Why Tuples are Immutable:\n",
        "\n",
        "1. Design Choice: Tuples were designed to be immutable, providing a way to store collections of data that should not be changed.\n",
        "2. Security: Immutability ensures that tuples cannot be modified accidentally or maliciously.\n",
        "3. Thread Safety: Tuples are thread-safe, meaning that multiple threads can access the same tuple without fear of one thread modifying the tuple and affecting the other threads.\n",
        "\n",
        "Attempting to Modify a Tuple:\n",
        "\n",
        "\n",
        "# Create a tuple\n",
        "my_tuple = (1, 2, 3)\n",
        "\n",
        "# Attempt to modify an element\n",
        "try:\n",
        "    my_tuple[0] = 4\n",
        "except TypeError:\n",
        "    print(\"Tuples are immutable!\")\n",
        "\n",
        "\n",
        "In this example, attempting to modify an element of the tuple raises a TypeError, demonstrating the immutability of tuples.\n",
        "\n",
        "Workarounds:\n",
        "\n",
        "If you need to modify a collection of data, you can use a list instead of a tuple. Alternatively, you can create a new tuple with the modified data.\n",
        "\n",
        "Example Code:\n",
        "\n",
        "\n",
        "# Create a tuple\n",
        "my_tuple = (1, 2, 3)\n",
        "\n",
        "# Create a new tuple with modified data\n",
        "my_new_tuple = (4, my_tuple[1], my_tuple[2])\n",
        "print(my_new_tuple)  # (4, 2, 3)\n",
        "\n",
        "# Convert the tuple to a list, modify it, and convert it back to a tuple\n",
        "my_list = list(my_tuple)\n",
        "my_list[0] = 4\n",
        "my_new_tuple = tuple(my_list)\n",
        "print(my_new_tuple)  # (4, 2, 3)\n",
        "\n",
        "\n",
        "In summary, tuples are immutable in Python, and their elements cannot be modified directly. If you need to modify a collection of data, consider using a list or creating a new tuple with the modified data.\n",
        "\n",
        "# What is a nested dictionary, and give an example of its use case ?\n",
        "-> Nested Dictionaries in Python\n",
        "\n",
        "A nested dictionary is a dictionary that contains another dictionary as its value. This allows for more complex data structures and can be useful for representing hierarchical or nested data.\n",
        "\n",
        "Example of a Nested Dictionary:\n",
        "\n",
        "\n",
        "# Create a nested dictionary\n",
        "person = {\n",
        "    \"name\": \"John\",\n",
        "    \"age\": 30,\n",
        "    \"address\": {\n",
        "        \"street\": \"123 Main St\",\n",
        "        \"city\": \"New York\",\n",
        "        \"state\": \"NY\",\n",
        "        \"zip\": \"10001\"\n",
        "    },\n",
        "    \"contact\": {\n",
        "        \"phone\": \"123-456-7890\",\n",
        "        \"email\": \"john@example.com\"\n",
        "    }\n",
        "}\n",
        "\n",
        "# Accessing nested dictionary values\n",
        "print(person[\"address\"][\"street\"])  # 123 Main St\n",
        "print(person[\"contact\"][\"phone\"])  # 123-456-7890\n",
        "In this example, the person dictionary contains two nested dictionaries: address and contact. Each nested dictionary has its own set of key-value pairs.\n",
        "\n",
        "# Describe the time complexity of accessing elements in a dictionary ?\n",
        "->Time Complexity of Dictionary Access in Python\n",
        "\n",
        "The time complexity of accessing elements in a dictionary in Python is typically O(1), making dictionaries a very efficient data structure for lookups.\n",
        "\n",
        "Why O(1) Time Complexity:\n",
        "\n",
        "1. Hash Table Implementation: Dictionaries in Python are implemented as hash tables, which provide fast lookups, insertions, and deletions.\n",
        "2. Hash Function: When you access a key in a dictionary, Python uses a hash function to calculate the index of the bucket where the key-value pair is stored.\n",
        "3. Average Case: In the average case, the time complexity of dictionary access is O(1), as the hash function distributes the keys evenly across the buckets.\n",
        "\n",
        "Worst-Case Scenario:\n",
        "\n",
        "1. Hash Collisions: In the worst-case scenario, hash collisions can occur, where multiple keys hash to the same index. This can lead to a time complexity of O(n), where n is the number of keys in the dictionary.\n",
        "2. Rare Occurrence: However, hash collisions are rare in practice, and Python's dictionary implementation is designed to minimize their occurrence.\n",
        "\n",
        "Factors Affecting Performance:\n",
        "\n",
        "1. Dictionary Size: The size of the dictionary can affect performance, as larger dictionaries may require more time to access elements.\n",
        "2. Hash Function Quality: The quality of the hash function used by Python's dictionary implementation can also affect performance.\n",
        "\n",
        "Best Practices:\n",
        "\n",
        "1. Use Immutable Keys: Using immutable keys, such as strings or integers, can help ensure that the hash function works efficiently.\n",
        "2. Avoid Hash Collisions: Avoiding hash collisions by using a good hash function and ensuring that keys are unique can help maintain O(1) time complexity.\n",
        "\n",
        "In summary, the time complexity of accessing elements in a dictionary in Python is typically O(1), making dictionaries a very efficient data structure for lookups. However, hash collisions can occur in the worst-case scenario, leading to a time complexity of O(n).\n",
        "\n",
        "#  In what situations are lists preferred over dictionaries ?\n",
        "->Lists vs Dictionaries in Python\n",
        "\n",
        "Lists and dictionaries are both fundamental data structures in Python, but they have different strengths and use cases. Here are some situations where lists are preferred over dictionaries:\n",
        "\n",
        "Situations where Lists are Preferred:\n",
        "\n",
        "1. Ordered Data: When you need to store ordered data, such as a sequence of events or a list of items, lists are a better choice.\n",
        "2. Index-Based Access: When you need to access elements by their index, lists are more suitable.\n",
        "3. Homogeneous Data: When you need to store a collection of homogeneous data, such as a list of numbers or strings, lists are a good choice.\n",
        "4. Iterating over Elements: When you need to iterate over elements in a specific order, lists are more efficient.\n",
        "5. Stack or Queue Operations: When you need to implement stack or queue operations, lists are a good choice.\n",
        "\n",
        "Examples:\n",
        "\n",
        "1. To-Do List: A list of tasks to be completed, where the order of tasks matters.\n",
        "2. Student Grades: A list of grades for a student, where the order of grades is important.\n",
        "3. Queue of Requests: A list of requests to be processed in a specific order.\n",
        "\n",
        "# Why are dictionaries considered unordered, and how does that affect data retrieval ?\n",
        "->Dictionaries in Python: Ordered vs Unordered\n",
        "\n",
        "Prior to Python 3.7, dictionaries were considered unordered data structures. This means that the order of key-value pairs was not guaranteed to be the same as the order in which they were inserted.\n",
        "\n",
        "Why Dictionaries were Unordered:\n",
        "\n",
        "1. Hash Table Implementation: Dictionaries in Python were implemented as hash tables, which are designed for fast lookups, insertions, and deletions. However, hash tables do not preserve the order of elements.\n",
        "2. Internal Storage: The internal storage of dictionaries was optimized for performance, not for preserving order.\n",
        "\n",
        "Impact on Data Retrieval:\n",
        "\n",
        "1. No Guaranteed Order: When iterating over a dictionary, the order of key-value pairs was not guaranteed to be the same as the order in which they were inserted.\n",
        "2. Unpredictable Behavior: This could lead to unpredictable behavior in certain situations, such as when iterating over a dictionary to perform some operation.\n",
        "\n",
        "Python 3.7 and Later:\n",
        "In Python 3.7 and later, dictionaries maintain their insertion order. This means that when iterating over a dictionary, the order of key-value pairs is guaranteed to be the same as the order in which they were inserted.\n",
        "\n",
        "Impact on Data Retrieval in Python 3.7 and Later:\n",
        "\n",
        "1. Guaranteed Order: When iterating over a dictionary, the order of key-value pairs is guaranteed to be the same as the order in which they were inserted.\n",
        "2. Predictable Behavior: This leads to more predictable behavior in certain situations, such as when iterating over a dictionary to perform some operation.\n",
        "\n",
        "Best Practices:\n",
        "\n",
        "1. Use OrderedDict: If you need to preserve order in older versions of Python, consider using the OrderedDict class from the collections module.\n",
        "2. Be Aware of Version Differences: When working with dictionaries across different versions of Python, be aware of the differences in behavior.\n",
        "\n",
        "In summary, dictionaries in Python were previously considered unordered due to their hash table implementation. However, in Python 3.7 and later, dictionaries maintain their insertion order, which affects data retrieval and iteration. Understanding these differences is essential for writing predictable and efficient code.\n",
        "\n",
        "# Explain the difference between a list and a dictionary in terms of data retrieval. ?\n",
        "->Lists vs Dictionaries: Data Retrieval\n",
        "\n",
        "Lists:\n",
        "\n",
        "- Indexed access: Elements are accessed by their index (position in the list).\n",
        "- Numerical index: Index is a numerical value starting from 0.\n",
        "- Sequential access: Elements are accessed in a sequential manner.\n",
        "\n",
        "Dictionaries:\n",
        "\n",
        "- Key-based access: Elements are accessed by their key (a unique identifier).\n",
        "- Key-value pairs: Each element is a key-value pair.\n",
        "- Non-sequential access: Elements can be accessed randomly using their key.\n",
        "\n",
        "Key differences:\n",
        "\n",
        "- Access method: Lists use index-based access, while dictionaries use key-based access.\n",
        "- Lookup efficiency: Dictionaries provide faster lookup times than lists, especially for large datasets.\n",
        "\n",
        "When to use each:\n",
        "\n",
        "- Lists: Use when you need to store a collection of elements in a specific order, and you need to access elements by their index.\n",
        "- Dictionaries: Use when you need to store key-value pairs and access elements by their key.\n",
        "\n",
        "Example:\n",
        "\n",
        "\n",
        "# List\n",
        "my_list = [1, 2, 3, 4, 5]\n",
        "print(my_list[0])  # Output: 1\n",
        "\n",
        "# Dictionary\n",
        "my_dict = {\"name\": \"John\", \"age\": 30}\n",
        "print(my_dict[\"name\"])  # Output: John\n",
        "\n",
        "\n",
        "In summary, lists and dictionaries differ in their data retrieval mechanisms, with lists using index-based access and dictionaries using key-based access.\n",
        "\n",
        "\n",
        "\n"
      ],
      "metadata": {
        "id": "N-iTfS1gvT6I"
      }
    },
    {
      "cell_type": "code",
      "source": [
        "# Write a code to create a string with your name and print it ?\n",
        "''\n",
        "name = \"yasin\"\n",
        "print(name)\n",
        "\n",
        "''\n",
        "\n"
      ],
      "metadata": {
        "colab": {
          "base_uri": "https://localhost:8080/",
          "height": 54
        },
        "id": "WXQS6iuW-1OI",
        "outputId": "e5ef423d-d8c0-4c54-9c92-a9fc55491c81"
      },
      "execution_count": 6,
      "outputs": [
        {
          "output_type": "stream",
          "name": "stdout",
          "text": [
            "yasin\n"
          ]
        },
        {
          "output_type": "execute_result",
          "data": {
            "text/plain": [
              "''"
            ],
            "application/vnd.google.colaboratory.intrinsic+json": {
              "type": "string"
            }
          },
          "metadata": {},
          "execution_count": 6
        }
      ]
    },
    {
      "cell_type": "code",
      "source": [
        "# Write a code to find the length of the string \"Hello World\"\n",
        "''\n",
        "# Define the string\n",
        "my_string = \"Hello World\"\n",
        "\n",
        "# Find the length of the string\n",
        "length = len(my_string)\n",
        "\n",
        "# Print the length\n",
        "print(\"The length of the string is:\", length)\n",
        "''"
      ],
      "metadata": {
        "colab": {
          "base_uri": "https://localhost:8080/",
          "height": 54
        },
        "id": "eJLa-cBsAIyM",
        "outputId": "47535d1e-4dda-49cd-ffa1-9ec3c8887555"
      },
      "execution_count": 3,
      "outputs": [
        {
          "output_type": "stream",
          "name": "stdout",
          "text": [
            "The length of the string is: 11\n"
          ]
        },
        {
          "output_type": "execute_result",
          "data": {
            "text/plain": [
              "''"
            ],
            "application/vnd.google.colaboratory.intrinsic+json": {
              "type": "string"
            }
          },
          "metadata": {},
          "execution_count": 3
        }
      ]
    },
    {
      "cell_type": "code",
      "source": [
        "# Write a code to slice the first 3 characters from the string \"Python Programming\"\n",
        "''\n",
        "# Define the string\n",
        "my_string = \"Python Programming\"\n",
        "\n",
        "# Slice the first 3 characters\n",
        "sliced_string = my_string[:3]\n",
        "\n",
        "# Print the sliced string\n",
        "print(sliced_string)\n",
        "\n",
        "''\n"
      ],
      "metadata": {
        "colab": {
          "base_uri": "https://localhost:8080/",
          "height": 54
        },
        "id": "Ws-SZBKeC6YJ",
        "outputId": "849179e4-b551-4631-b3d3-ad8e1916d4ed"
      },
      "execution_count": 7,
      "outputs": [
        {
          "output_type": "stream",
          "name": "stdout",
          "text": [
            "Pyt\n"
          ]
        },
        {
          "output_type": "execute_result",
          "data": {
            "text/plain": [
              "''"
            ],
            "application/vnd.google.colaboratory.intrinsic+json": {
              "type": "string"
            }
          },
          "metadata": {},
          "execution_count": 7
        }
      ]
    },
    {
      "cell_type": "code",
      "source": [
        "# Write a code to convert the string \"hello\" to uppercase\n",
        "''\n",
        "# Define the string\n",
        "my_string = \"hello\"\n",
        "\n",
        "# Convert to uppercase\n",
        "uppercase_string = my_string.upper()\n",
        "\n",
        "# Print the result\n",
        "print(uppercase_string)\n",
        "''"
      ],
      "metadata": {
        "colab": {
          "base_uri": "https://localhost:8080/",
          "height": 54
        },
        "id": "rgGVP5VTFHdg",
        "outputId": "9313e163-6208-4ecf-a15f-e84b003f2584"
      },
      "execution_count": 8,
      "outputs": [
        {
          "output_type": "stream",
          "name": "stdout",
          "text": [
            "HELLO\n"
          ]
        },
        {
          "output_type": "execute_result",
          "data": {
            "text/plain": [
              "''"
            ],
            "application/vnd.google.colaboratory.intrinsic+json": {
              "type": "string"
            }
          },
          "metadata": {},
          "execution_count": 8
        }
      ]
    },
    {
      "cell_type": "code",
      "source": [
        "# Write a code to replace the word \"apple\" with \"orange\" in the string \"I like apple\"\n",
        "''\n",
        "# Define the string\n",
        "my_string = \"I like apple\"\n",
        "\n",
        "# Replace \"apple\" with \"orange\"\n",
        "new_string = my_string.replace(\"apple\", \"orange\")\n",
        "\n",
        "# Print the result\n",
        "print(new_string)\n",
        "''\n"
      ],
      "metadata": {
        "colab": {
          "base_uri": "https://localhost:8080/",
          "height": 54
        },
        "id": "WOUACDNUGDYH",
        "outputId": "bb98c2cf-cd29-47e1-aced-0a91eac86c26"
      },
      "execution_count": 9,
      "outputs": [
        {
          "output_type": "stream",
          "name": "stdout",
          "text": [
            "I like orange\n"
          ]
        },
        {
          "output_type": "execute_result",
          "data": {
            "text/plain": [
              "''"
            ],
            "application/vnd.google.colaboratory.intrinsic+json": {
              "type": "string"
            }
          },
          "metadata": {},
          "execution_count": 9
        }
      ]
    },
    {
      "cell_type": "code",
      "source": [
        "# Write a code to create a list with numbers 1 to 5 and print it\n",
        "''\n",
        "# Create a list with numbers 1 to 5\n",
        "my_list = [1, 2, 3, 4, 5]\n",
        "\n",
        "# Print the list\n",
        "print(my_list)\n",
        "''"
      ],
      "metadata": {
        "colab": {
          "base_uri": "https://localhost:8080/",
          "height": 54
        },
        "id": "5DkHA98yGsam",
        "outputId": "b1a25119-23ab-4ce9-fe57-66c0f01278e7"
      },
      "execution_count": 10,
      "outputs": [
        {
          "output_type": "stream",
          "name": "stdout",
          "text": [
            "[1, 2, 3, 4, 5]\n"
          ]
        },
        {
          "output_type": "execute_result",
          "data": {
            "text/plain": [
              "''"
            ],
            "application/vnd.google.colaboratory.intrinsic+json": {
              "type": "string"
            }
          },
          "metadata": {},
          "execution_count": 10
        }
      ]
    },
    {
      "cell_type": "code",
      "source": [
        "#  Write a code to append the number 10 to the list [1, 2, 3, 4]\n",
        "''\n",
        "# Define the list\n",
        "my_list = [1, 2, 3, 4]\n",
        "\n",
        "# Append 10 to the list\n",
        "my_list.append(10)\n",
        "\n",
        "# Print the updated list\n",
        "print(my_list)\n",
        "''"
      ],
      "metadata": {
        "colab": {
          "base_uri": "https://localhost:8080/",
          "height": 54
        },
        "id": "V5YZoQAkHKji",
        "outputId": "686846e2-dbec-4ec6-f76e-11c7ba85f762"
      },
      "execution_count": 11,
      "outputs": [
        {
          "output_type": "stream",
          "name": "stdout",
          "text": [
            "[1, 2, 3, 4, 10]\n"
          ]
        },
        {
          "output_type": "execute_result",
          "data": {
            "text/plain": [
              "''"
            ],
            "application/vnd.google.colaboratory.intrinsic+json": {
              "type": "string"
            }
          },
          "metadata": {},
          "execution_count": 11
        }
      ]
    },
    {
      "cell_type": "code",
      "source": [
        "# Write a code to remove the number 3 from the list [1, 2, 3, 4, 5]\n",
        "''\n",
        "# Define the list\n",
        "my_list = [1, 2, 3, 4, 5]\n",
        "\n",
        "# Remove 3 from the list\n",
        "my_list.remove(3)\n",
        "\n",
        "# Print the updated list\n",
        "print(my_list)\n",
        "''"
      ],
      "metadata": {
        "colab": {
          "base_uri": "https://localhost:8080/",
          "height": 54
        },
        "id": "nCWZ-DiBHyNQ",
        "outputId": "2ba012a2-e786-4fb5-8625-73526dbe9112"
      },
      "execution_count": 12,
      "outputs": [
        {
          "output_type": "stream",
          "name": "stdout",
          "text": [
            "[1, 2, 4, 5]\n"
          ]
        },
        {
          "output_type": "execute_result",
          "data": {
            "text/plain": [
              "''"
            ],
            "application/vnd.google.colaboratory.intrinsic+json": {
              "type": "string"
            }
          },
          "metadata": {},
          "execution_count": 12
        }
      ]
    },
    {
      "cell_type": "code",
      "source": [
        "# Write a code to access the second element in the list ['a', 'b', 'c', 'd']\n",
        "''\n",
        "# Define the list\n",
        "my_list = ['a', 'b', 'c', 'd']\n",
        "\n",
        "# Access the second element (index 1)\n",
        "second_element = my_list[1]\n",
        "\n",
        "# Print the second element\n",
        "print(second_element)\n",
        "''"
      ],
      "metadata": {
        "colab": {
          "base_uri": "https://localhost:8080/",
          "height": 54
        },
        "id": "YrPURrkKIGQ8",
        "outputId": "738b3ee1-a6ac-4b65-937a-cb0c2c26fb0d"
      },
      "execution_count": 13,
      "outputs": [
        {
          "output_type": "stream",
          "name": "stdout",
          "text": [
            "b\n"
          ]
        },
        {
          "output_type": "execute_result",
          "data": {
            "text/plain": [
              "''"
            ],
            "application/vnd.google.colaboratory.intrinsic+json": {
              "type": "string"
            }
          },
          "metadata": {},
          "execution_count": 13
        }
      ]
    },
    {
      "cell_type": "code",
      "source": [
        "#  Write a code to reverse the list [10, 20, 30, 40, 50].\n",
        "''\n",
        "my_list = [10, 20, 30, 40, 50]\n",
        "my_list.reverse()\n",
        "print(my_list)\n",
        "''"
      ],
      "metadata": {
        "colab": {
          "base_uri": "https://localhost:8080/",
          "height": 54
        },
        "id": "8kuc49AKIcJt",
        "outputId": "12266bda-3c67-4496-97bd-26280404aac9"
      },
      "execution_count": 14,
      "outputs": [
        {
          "output_type": "stream",
          "name": "stdout",
          "text": [
            "[50, 40, 30, 20, 10]\n"
          ]
        },
        {
          "output_type": "execute_result",
          "data": {
            "text/plain": [
              "''"
            ],
            "application/vnd.google.colaboratory.intrinsic+json": {
              "type": "string"
            }
          },
          "metadata": {},
          "execution_count": 14
        }
      ]
    },
    {
      "cell_type": "code",
      "source": [
        "# 1. Write a code to create a tuple with the elements 100, 200, 300 and print it.\n",
        "''\n",
        "# Create a tuple\n",
        "my_tuple = (100, 200, 300)\n",
        "\n",
        "# Print the tuple\n",
        "print(my_tuple)\n",
        "''\n"
      ],
      "metadata": {
        "colab": {
          "base_uri": "https://localhost:8080/",
          "height": 54
        },
        "id": "2n6VLk_oJFLO",
        "outputId": "c32171a8-8c8b-42c5-a1e5-dc55008ba3a0"
      },
      "execution_count": 15,
      "outputs": [
        {
          "output_type": "stream",
          "name": "stdout",
          "text": [
            "(100, 200, 300)\n"
          ]
        },
        {
          "output_type": "execute_result",
          "data": {
            "text/plain": [
              "''"
            ],
            "application/vnd.google.colaboratory.intrinsic+json": {
              "type": "string"
            }
          },
          "metadata": {},
          "execution_count": 15
        }
      ]
    },
    {
      "cell_type": "code",
      "source": [
        "# Write a code to access the second-to-last element of the tuple ('red', 'green', 'blue', 'yellow').\n",
        "''\n",
        "# Define the tuple\n",
        "my_tuple = ('red', 'green', 'blue', 'yellow')\n",
        "\n",
        "# Access the second-to-last element (index -2)\n",
        "second_to_last = my_tuple[-2]\n",
        "\n",
        "# Print the second-to-last element\n",
        "print(second_to_last)\n",
        "''\n"
      ],
      "metadata": {
        "colab": {
          "base_uri": "https://localhost:8080/",
          "height": 54
        },
        "id": "bO-wencNJbz-",
        "outputId": "e7bb27ba-d2f9-4c15-91b4-e7e9500c4d60"
      },
      "execution_count": 16,
      "outputs": [
        {
          "output_type": "stream",
          "name": "stdout",
          "text": [
            "blue\n"
          ]
        },
        {
          "output_type": "execute_result",
          "data": {
            "text/plain": [
              "''"
            ],
            "application/vnd.google.colaboratory.intrinsic+json": {
              "type": "string"
            }
          },
          "metadata": {},
          "execution_count": 16
        }
      ]
    },
    {
      "cell_type": "code",
      "source": [
        "#  Write a code to find the minimum number in the tuple (10, 20, 5, 15).\n",
        "''\n",
        "# Define the tuple\n",
        "my_tuple = (10, 20, 5, 15)\n",
        "\n",
        "# Find the minimum number\n",
        "min_number = min(my_tuple)\n",
        "\n",
        "# Print the minimum number\n",
        "print(min_number)\n",
        "''"
      ],
      "metadata": {
        "colab": {
          "base_uri": "https://localhost:8080/",
          "height": 54
        },
        "id": "NpGLVw1lJ-NI",
        "outputId": "83b14490-e5c5-4a51-ff70-2106ab7949a3"
      },
      "execution_count": 17,
      "outputs": [
        {
          "output_type": "stream",
          "name": "stdout",
          "text": [
            "5\n"
          ]
        },
        {
          "output_type": "execute_result",
          "data": {
            "text/plain": [
              "''"
            ],
            "application/vnd.google.colaboratory.intrinsic+json": {
              "type": "string"
            }
          },
          "metadata": {},
          "execution_count": 17
        }
      ]
    },
    {
      "cell_type": "code",
      "source": [
        "# Write a code to find the index of the element \"cat\" in the tuple ('dog', 'cat', 'rabbit').\n",
        "''\n",
        "\n",
        "# Define the tuple\n",
        "my_tuple = ('dog', 'cat', 'rabbit')\n",
        "\n",
        "# Find the index of \"cat\"\n",
        "index = my_tuple.index('cat')\n",
        "\n",
        "# Print the index\n",
        "print(index)\n",
        "''"
      ],
      "metadata": {
        "colab": {
          "base_uri": "https://localhost:8080/",
          "height": 54
        },
        "id": "eIMKnruRKVLK",
        "outputId": "8b6641ce-7c37-4697-8947-ddfa88f744ce"
      },
      "execution_count": 18,
      "outputs": [
        {
          "output_type": "stream",
          "name": "stdout",
          "text": [
            "1\n"
          ]
        },
        {
          "output_type": "execute_result",
          "data": {
            "text/plain": [
              "''"
            ],
            "application/vnd.google.colaboratory.intrinsic+json": {
              "type": "string"
            }
          },
          "metadata": {},
          "execution_count": 18
        }
      ]
    },
    {
      "cell_type": "code",
      "source": [
        "# Write a code to create a tuple containing three different fruits and check if \"kiwi\" is in it.\n",
        "''\n",
        "# Create a tuple of fruits\n",
        "fruits = ('apple', 'banana', 'orange')\n",
        "\n",
        "# Check if \"kiwi\" is in the tuple\n",
        "if 'kiwi' in fruits:\n",
        "    print(\"Yes, kiwi is in the tuple\")\n",
        "else:\n",
        "    print(\"No, kiwi is not in the tuple\")\n",
        "''"
      ],
      "metadata": {
        "colab": {
          "base_uri": "https://localhost:8080/",
          "height": 54
        },
        "id": "krBEbmUbKmp2",
        "outputId": "d647404a-3514-46d9-d3db-c1476f2f377e"
      },
      "execution_count": 19,
      "outputs": [
        {
          "output_type": "stream",
          "name": "stdout",
          "text": [
            "No, kiwi is not in the tuple\n"
          ]
        },
        {
          "output_type": "execute_result",
          "data": {
            "text/plain": [
              "''"
            ],
            "application/vnd.google.colaboratory.intrinsic+json": {
              "type": "string"
            }
          },
          "metadata": {},
          "execution_count": 19
        }
      ]
    },
    {
      "cell_type": "code",
      "source": [
        "# Write a code to create a set with the elements 'a', 'b', 'c' and print it.\n",
        "''\n",
        "# Create a set\n",
        "my_set = {'a', 'b', 'c'}\n",
        "\n",
        "# Print the set\n",
        "print(my_set)\n",
        "''"
      ],
      "metadata": {
        "colab": {
          "base_uri": "https://localhost:8080/",
          "height": 54
        },
        "id": "uGCjO814K_Oc",
        "outputId": "3fa15577-2739-4edd-b409-cb3dec3797e7"
      },
      "execution_count": 20,
      "outputs": [
        {
          "output_type": "stream",
          "name": "stdout",
          "text": [
            "{'b', 'c', 'a'}\n"
          ]
        },
        {
          "output_type": "execute_result",
          "data": {
            "text/plain": [
              "''"
            ],
            "application/vnd.google.colaboratory.intrinsic+json": {
              "type": "string"
            }
          },
          "metadata": {},
          "execution_count": 20
        }
      ]
    },
    {
      "cell_type": "code",
      "source": [
        "# . Write a code to clear all elements from the set {1, 2, 3, 4, 5}.\n",
        "''\n",
        "# Create a set\n",
        "my_set = {1, 2, 3, 4, 5}\n",
        "\n",
        "# Print the original set\n",
        "print(\"Original set:\", my_set)\n",
        "\n",
        "# Clear the set\n",
        "my_set.clear()\n",
        "\n",
        "# Print the cleared set\n",
        "print(\"Cleared set:\", my_set)\n",
        "''"
      ],
      "metadata": {
        "colab": {
          "base_uri": "https://localhost:8080/",
          "height": 72
        },
        "id": "7xxYMH2dLTRB",
        "outputId": "1a880e6b-3d48-408b-d405-e124ef0eb409"
      },
      "execution_count": 21,
      "outputs": [
        {
          "output_type": "stream",
          "name": "stdout",
          "text": [
            "Original set: {1, 2, 3, 4, 5}\n",
            "Cleared set: set()\n"
          ]
        },
        {
          "output_type": "execute_result",
          "data": {
            "text/plain": [
              "''"
            ],
            "application/vnd.google.colaboratory.intrinsic+json": {
              "type": "string"
            }
          },
          "metadata": {},
          "execution_count": 21
        }
      ]
    },
    {
      "cell_type": "code",
      "source": [
        "#. Write a code to remove the element 4 from the set {1, 2, 3, 4}.\n",
        "''\n",
        "# Create a set\n",
        "my_set = {1, 2, 3, 4}\n",
        "\n",
        "# Print the original set\n",
        "print(\"Original set:\", my_set)\n",
        "\n",
        "# Remove the element 4\n",
        "my_set.remove(4)\n",
        "\n",
        "# Print the updated set\n",
        "print(\"Updated set:\", my_set)\n",
        "''"
      ],
      "metadata": {
        "colab": {
          "base_uri": "https://localhost:8080/",
          "height": 72
        },
        "id": "Kdl-sVk_LhPO",
        "outputId": "03a60fb6-6403-4986-a0d5-e0675fad0dca"
      },
      "execution_count": 22,
      "outputs": [
        {
          "output_type": "stream",
          "name": "stdout",
          "text": [
            "Original set: {1, 2, 3, 4}\n",
            "Updated set: {1, 2, 3}\n"
          ]
        },
        {
          "output_type": "execute_result",
          "data": {
            "text/plain": [
              "''"
            ],
            "application/vnd.google.colaboratory.intrinsic+json": {
              "type": "string"
            }
          },
          "metadata": {},
          "execution_count": 22
        }
      ]
    },
    {
      "cell_type": "code",
      "source": [
        "# Write a code to find the union of two sets {1, 2, 3} and {3, 4, 5}\n",
        "''\n",
        "# Define the sets\n",
        "set1 = {1, 2, 3}\n",
        "set2 = {3, 4, 5}\n",
        "\n",
        "# Find the union of the sets\n",
        "union_set = set1.union(set2)\n",
        "\n",
        "# Print the union set\n",
        "print(\"Union set:\", union_set)\n",
        "''"
      ],
      "metadata": {
        "colab": {
          "base_uri": "https://localhost:8080/",
          "height": 54
        },
        "id": "8uZeNxPqL-2F",
        "outputId": "28a02cda-85f4-4c84-f203-a86d9b7c93e1"
      },
      "execution_count": 23,
      "outputs": [
        {
          "output_type": "stream",
          "name": "stdout",
          "text": [
            "Union set: {1, 2, 3, 4, 5}\n"
          ]
        },
        {
          "output_type": "execute_result",
          "data": {
            "text/plain": [
              "''"
            ],
            "application/vnd.google.colaboratory.intrinsic+json": {
              "type": "string"
            }
          },
          "metadata": {},
          "execution_count": 23
        }
      ]
    },
    {
      "cell_type": "code",
      "source": [
        "#  Write a code to find the intersection of two sets {1, 2, 3} and {2, 3, 4}.\n",
        "''\n",
        "\n",
        "# Define the sets\n",
        "set1 = {1, 2, 3}\n",
        "set2 = {2, 3, 4}\n",
        "\n",
        "# Find the intersection of the sets\n",
        "intersection_set = set1.intersection(set2)\n",
        "\n",
        "# Print the intersection set\n",
        "print(\"Intersection set:\", intersection_set)\n",
        "''"
      ],
      "metadata": {
        "colab": {
          "base_uri": "https://localhost:8080/",
          "height": 54
        },
        "id": "Q8C6AeGCMRay",
        "outputId": "e589e683-6b68-43ea-ffa1-077d6624e97c"
      },
      "execution_count": 24,
      "outputs": [
        {
          "output_type": "stream",
          "name": "stdout",
          "text": [
            "Intersection set: {2, 3}\n"
          ]
        },
        {
          "output_type": "execute_result",
          "data": {
            "text/plain": [
              "''"
            ],
            "application/vnd.google.colaboratory.intrinsic+json": {
              "type": "string"
            }
          },
          "metadata": {},
          "execution_count": 24
        }
      ]
    },
    {
      "cell_type": "code",
      "source": [
        " #  Write a code to create a dictionary with the keys \"name\", \"age\", and \"city\", and print it.\n",
        " ''\n",
        " # Create a dictionary\n",
        "person = {\n",
        "    \"name\": \"John\",\n",
        "    \"age\": 30,\n",
        "    \"city\": \"New York\"\n",
        "}\n",
        "# Print the dictionary\n",
        "print(person)\n",
        "''"
      ],
      "metadata": {
        "colab": {
          "base_uri": "https://localhost:8080/",
          "height": 54
        },
        "id": "Yc5W6H3gMmiL",
        "outputId": "6d18eef7-3a35-4d52-928c-749ba8f18202"
      },
      "execution_count": 26,
      "outputs": [
        {
          "output_type": "stream",
          "name": "stdout",
          "text": [
            "{'name': 'John', 'age': 30, 'city': 'New York'}\n"
          ]
        },
        {
          "output_type": "execute_result",
          "data": {
            "text/plain": [
              "''"
            ],
            "application/vnd.google.colaboratory.intrinsic+json": {
              "type": "string"
            }
          },
          "metadata": {},
          "execution_count": 26
        }
      ]
    },
    {
      "cell_type": "code",
      "source": [
        "#  Write a code to add a new key-value pair \"country\": \"USA\" to the dictionary {'name': 'John', 'age': 25}\n",
        "''\n",
        "# Create a dictionary\n",
        "person = {\n",
        "    \"name\": \"John\",\n",
        "    \"age\": 25\n",
        "}\n",
        "\n",
        "# Print the original dictionary\n",
        "print(\"Original dictionary:\", person)\n",
        "\n",
        "# Add a new key-value pair\n",
        "person[\"country\"] = \"USA\"\n",
        "\n",
        "# Print the updated dictionary\n",
        "print(\"Updated dictionary:\", person)\n",
        "''\n"
      ],
      "metadata": {
        "colab": {
          "base_uri": "https://localhost:8080/",
          "height": 72
        },
        "id": "ZSWL46BvNG3P",
        "outputId": "d57122f9-d4d5-402d-f545-753769d2e635"
      },
      "execution_count": 27,
      "outputs": [
        {
          "output_type": "stream",
          "name": "stdout",
          "text": [
            "Original dictionary: {'name': 'John', 'age': 25}\n",
            "Updated dictionary: {'name': 'John', 'age': 25, 'country': 'USA'}\n"
          ]
        },
        {
          "output_type": "execute_result",
          "data": {
            "text/plain": [
              "''"
            ],
            "application/vnd.google.colaboratory.intrinsic+json": {
              "type": "string"
            }
          },
          "metadata": {},
          "execution_count": 27
        }
      ]
    },
    {
      "cell_type": "code",
      "source": [
        "#  Write a code to access the value associated with the key \"name\" in the dictionary {'name': 'Alice', 'age': 30}.\n",
        "''\n",
        "# Create a dictionary\n",
        "person = {\n",
        "    \"name\": \"Alice\",\n",
        "    \"age\": 30\n",
        "}\n",
        "\n",
        "# Access the value associated with the key \"name\"\n",
        "name = person[\"name\"]\n",
        "\n",
        "# Print the value\n",
        "print(name)\n",
        "''"
      ],
      "metadata": {
        "colab": {
          "base_uri": "https://localhost:8080/",
          "height": 54
        },
        "id": "4jqIfUaiNeBA",
        "outputId": "9a694913-66e0-4928-ddbe-e620e88b9feb"
      },
      "execution_count": 28,
      "outputs": [
        {
          "output_type": "stream",
          "name": "stdout",
          "text": [
            "Alice\n"
          ]
        },
        {
          "output_type": "execute_result",
          "data": {
            "text/plain": [
              "''"
            ],
            "application/vnd.google.colaboratory.intrinsic+json": {
              "type": "string"
            }
          },
          "metadata": {},
          "execution_count": 28
        }
      ]
    },
    {
      "cell_type": "code",
      "source": [
        "#  Write a code to remove the key \"age\" from the dictionary {'name': 'Bob', 'age': 22, 'city': 'New York'}.\n",
        "''\n",
        "# Create a dictionary\n",
        "person = {\n",
        "    \"name\": \"Bob\",\n",
        "    \"age\": 22,\n",
        "    \"city\": \"New York\"\n",
        "}\n",
        "\n",
        "# Print the original dictionary\n",
        "print(\"Original dictionary:\", person)\n",
        "\n",
        "# Remove the key \"age\"\n",
        "del person[\"age\"]\n",
        "\n",
        "# Print the updated dictionary\n",
        "print(\"Updated dictionary:\", person)\n",
        "\n",
        "''\n"
      ],
      "metadata": {
        "colab": {
          "base_uri": "https://localhost:8080/",
          "height": 72
        },
        "id": "uSB18VS_Nvh1",
        "outputId": "dd255ff5-d365-4756-a095-0ec3724bd61c"
      },
      "execution_count": 29,
      "outputs": [
        {
          "output_type": "stream",
          "name": "stdout",
          "text": [
            "Original dictionary: {'name': 'Bob', 'age': 22, 'city': 'New York'}\n",
            "Updated dictionary: {'name': 'Bob', 'city': 'New York'}\n"
          ]
        },
        {
          "output_type": "execute_result",
          "data": {
            "text/plain": [
              "''"
            ],
            "application/vnd.google.colaboratory.intrinsic+json": {
              "type": "string"
            }
          },
          "metadata": {},
          "execution_count": 29
        }
      ]
    },
    {
      "cell_type": "code",
      "source": [
        "# . Write a code to check if the key \"city\" exists in the dictionary {'name': 'Alice', 'city': 'Paris'}.\n",
        "''\n",
        "# Create a dictionary\n",
        "person = {\n",
        "    \"name\": \"Alice\",\n",
        "    \"city\": \"Paris\"\n",
        "}\n",
        "\n",
        "# Check if the key \"city\" exists\n",
        "if \"city\" in person:\n",
        "    print(\"Yes, 'city' is a key in the dictionary\")\n",
        "else:\n",
        "    print(\"No, 'city' is not a key in the dictionary\")\n",
        "''"
      ],
      "metadata": {
        "colab": {
          "base_uri": "https://localhost:8080/",
          "height": 54
        },
        "id": "LbXtZt3UOLCr",
        "outputId": "7a8a9fee-263e-4c6c-c54b-7bc628001e0b"
      },
      "execution_count": 30,
      "outputs": [
        {
          "output_type": "stream",
          "name": "stdout",
          "text": [
            "Yes, 'city' is a key in the dictionary\n"
          ]
        },
        {
          "output_type": "execute_result",
          "data": {
            "text/plain": [
              "''"
            ],
            "application/vnd.google.colaboratory.intrinsic+json": {
              "type": "string"
            }
          },
          "metadata": {},
          "execution_count": 30
        }
      ]
    },
    {
      "cell_type": "code",
      "source": [
        "# . Write a code to create a list, a tuple, and a dictionary, and print them all.\n",
        "''\n",
        "# Create a list\n",
        "my_list = [1, 2, 3, 4, 5]\n",
        "print(\"List:\", my_list)\n",
        "\n",
        "# Create a tuple\n",
        "my_tuple = (6, 7, 8, 9, 10)\n",
        "print(\"Tuple:\", my_tuple)\n",
        "\n",
        "# Create a dictionary\n",
        "my_dict = {\n",
        "    \"name\": \"John\",\n",
        "    \"age\": 30,\n",
        "    \"city\": \"New York\"\n",
        "}\n",
        "print(\"Dictionary:\", my_dict)\n",
        "''"
      ],
      "metadata": {
        "colab": {
          "base_uri": "https://localhost:8080/",
          "height": 90
        },
        "id": "ZNzS3Ey6Oe-1",
        "outputId": "ee2ccd0c-0756-448c-f429-8226326ea2f3"
      },
      "execution_count": 31,
      "outputs": [
        {
          "output_type": "stream",
          "name": "stdout",
          "text": [
            "List: [1, 2, 3, 4, 5]\n",
            "Tuple: (6, 7, 8, 9, 10)\n",
            "Dictionary: {'name': 'John', 'age': 30, 'city': 'New York'}\n"
          ]
        },
        {
          "output_type": "execute_result",
          "data": {
            "text/plain": [
              "''"
            ],
            "application/vnd.google.colaboratory.intrinsic+json": {
              "type": "string"
            }
          },
          "metadata": {},
          "execution_count": 31
        }
      ]
    },
    {
      "cell_type": "code",
      "source": [
        "#  Write a code to create a list of 5 random numbers between 1 and 100, sort it in ascending order, and print the result\n",
        "''\n",
        " # Generate a list of 5 random numbers between 1 and 100\n",
        "  #random_numbers = random.sample(range(1, 101), 5)\n",
        "#print(\"Original list:\", random_numbers)\n",
        "\n",
        "# Sort the list in ascending order\n",
        "#random_numbers.sort()\n",
        "#print(\"Sorted list:\", random_numbers)\n",
        "\n",
        "''"
      ],
      "metadata": {
        "colab": {
          "base_uri": "https://localhost:8080/",
          "height": 36
        },
        "id": "GTMmb33HO25I",
        "outputId": "7017d9cb-6021-48b1-da29-acfa96ba2a3e"
      },
      "execution_count": 35,
      "outputs": [
        {
          "output_type": "execute_result",
          "data": {
            "text/plain": [
              "''"
            ],
            "application/vnd.google.colaboratory.intrinsic+json": {
              "type": "string"
            }
          },
          "metadata": {},
          "execution_count": 35
        }
      ]
    },
    {
      "cell_type": "code",
      "source": [
        "# . Write a code to create a list with strings and print the element at the third index\n",
        "''\n",
        "\n",
        "# Create a list of strings\n",
        "fruits = [\"Apple\", \"Banana\", \"Cherry\", \"Date\", \"Elderberry\"]\n",
        "\n",
        "# Print the element at the third index\n",
        "print(fruits[2])\n",
        "''"
      ],
      "metadata": {
        "colab": {
          "base_uri": "https://localhost:8080/",
          "height": 54
        },
        "id": "WajFxMQoQDWz",
        "outputId": "57fa44d3-8e12-4e17-8a1e-03d3e7e61559"
      },
      "execution_count": 36,
      "outputs": [
        {
          "output_type": "stream",
          "name": "stdout",
          "text": [
            "Cherry\n"
          ]
        },
        {
          "output_type": "execute_result",
          "data": {
            "text/plain": [
              "''"
            ],
            "application/vnd.google.colaboratory.intrinsic+json": {
              "type": "string"
            }
          },
          "metadata": {},
          "execution_count": 36
        }
      ]
    },
    {
      "cell_type": "code",
      "source": [
        "# . Write a code to combine two dictionaries into one and print the result.\n",
        "''\n",
        "# Create two dictionaries\n",
        "dict1 = {\"name\": \"John\", \"age\": 30}\n",
        "dict2 = {\"city\": \"New York\", \"country\": \"USA\"}\n",
        "\n",
        "# Combine the dictionaries\n",
        "combined_dict = {**dict1, **dict2}\n",
        "\n",
        "# Print the combined dictionary\n",
        "print(combined_dict)\n",
        "''"
      ],
      "metadata": {
        "colab": {
          "base_uri": "https://localhost:8080/",
          "height": 54
        },
        "id": "B9LwGvMCQbqG",
        "outputId": "9e519f05-7cea-43c5-9b73-579bdd8143e5"
      },
      "execution_count": 37,
      "outputs": [
        {
          "output_type": "stream",
          "name": "stdout",
          "text": [
            "{'name': 'John', 'age': 30, 'city': 'New York', 'country': 'USA'}\n"
          ]
        },
        {
          "output_type": "execute_result",
          "data": {
            "text/plain": [
              "''"
            ],
            "application/vnd.google.colaboratory.intrinsic+json": {
              "type": "string"
            }
          },
          "metadata": {},
          "execution_count": 37
        }
      ]
    },
    {
      "cell_type": "code",
      "source": [
        "# Write a code to convert a list of strings into a set.\n",
        "''\n",
        "# Create a list of strings\n",
        "string_list = [\"apple\", \"banana\", \"apple\", \"orange\", \"banana\"]\n",
        "\n",
        "# Convert the list to a set\n",
        "string_set = set(string_list)\n",
        "\n",
        "# Print the set\n",
        "print(string_set)\n",
        "''"
      ],
      "metadata": {
        "colab": {
          "base_uri": "https://localhost:8080/",
          "height": 54
        },
        "id": "vARaRhTMQ4kc",
        "outputId": "4781bef4-ffce-439a-f3c4-42a456cd51ee"
      },
      "execution_count": 38,
      "outputs": [
        {
          "output_type": "stream",
          "name": "stdout",
          "text": [
            "{'banana', 'apple', 'orange'}\n"
          ]
        },
        {
          "output_type": "execute_result",
          "data": {
            "text/plain": [
              "''"
            ],
            "application/vnd.google.colaboratory.intrinsic+json": {
              "type": "string"
            }
          },
          "metadata": {},
          "execution_count": 38
        }
      ]
    }
  ]
}